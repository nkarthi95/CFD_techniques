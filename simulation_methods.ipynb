{
 "cells": [
  {
   "cell_type": "markdown",
   "metadata": {},
   "source": [
    "# CFD Techniques notebook"
   ]
  },
  {
   "cell_type": "markdown",
   "metadata": {},
   "source": [
    "This notebook tracks information I read about various simulation techniques relevant to computational fluid dynamics at various length and time scales, along with the and velocity that they can be used at."
   ]
  },
  {
   "cell_type": "markdown",
   "metadata": {},
   "source": [
    "# Lattice Boltzmann Method"
   ]
  },
  {
   "cell_type": "markdown",
   "metadata": {},
   "source": [
    "\\begin{equation}\n",
    "\\rho(r) = \\sum_i f_i\n",
    "\\end{equation}\n",
    "\n",
    "\\begin{equation}\n",
    "\\bold{j}(r) = \\sum_i c_i f_i\n",
    "\\end{equation}\n",
    "\n",
    "\\begin{equation}\n",
    "\\bold{\\Pi} = \\sum_i f_i c_i c_i\n",
    "\\end{equation}\n",
    "\n",
    "Relaxation time definitions\n",
    "1. Single relaxation time: RT - BGK collision operator with all modes relaxed at the same relaxation time\n",
    "2. Two relaxation time: TRT - Odd and even modes are relaxed at different relaxation times\n",
    "3. Three relaxation time: TRT - Shear modes, bulk modes and kinetic modes have different relaxation times\n",
    "4. Multi Relaxation time: MRT - All modes have their own relaxation times\n",
    "\n",
    "External forces\n",
    "1. Added to the collision step of the LBM and is usually expanded as a power series on the particle velocity"
   ]
  },
  {
   "cell_type": "markdown",
   "metadata": {},
   "source": [
    "# Brownian dynamics"
   ]
  },
  {
   "cell_type": "code",
   "execution_count": null,
   "metadata": {},
   "outputs": [],
   "source": []
  },
  {
   "cell_type": "markdown",
   "metadata": {},
   "source": [
    "# Stokesian dynamics"
   ]
  },
  {
   "cell_type": "markdown",
   "metadata": {},
   "source": [
    "This technique involves the reformulation of the Stokes equation as an integral equation for the fluid velocity from a force density in the simulation domain.\n",
    "\n",
    "\\begin{equation}\n",
    "\\bold{u(r)} = \\int_{V} \\bold{T(r - r')} \\cdot \\bold{f(r')}dr'\n",
    "\\end{equation}\n",
    "\n",
    "$\\bold{T(r)}$ is defined using Stokes equations of a sphere dragged through a fluid, modified to form an Oseen tensor and is defined as $\\bold{T(r)} = \\frac{1}{8 \\pi \\eta r}(\\bold{I} + \\hat{r}\\times\\hat{r})$"
   ]
  },
  {
   "cell_type": "markdown",
   "metadata": {},
   "source": [
    "# Direct simulation Monte-Carlo (DSMC)"
   ]
  },
  {
   "cell_type": "code",
   "execution_count": null,
   "metadata": {},
   "outputs": [],
   "source": []
  },
  {
   "cell_type": "markdown",
   "metadata": {},
   "source": [
    "# Smooth particle hydrodynamics"
   ]
  },
  {
   "cell_type": "code",
   "execution_count": null,
   "metadata": {},
   "outputs": [],
   "source": []
  },
  {
   "cell_type": "markdown",
   "metadata": {},
   "source": [
    "# Finite difference methods"
   ]
  },
  {
   "cell_type": "code",
   "execution_count": null,
   "metadata": {},
   "outputs": [],
   "source": []
  },
  {
   "cell_type": "markdown",
   "metadata": {},
   "source": [
    "# Finite element methods"
   ]
  },
  {
   "cell_type": "code",
   "execution_count": null,
   "metadata": {},
   "outputs": [],
   "source": []
  },
  {
   "cell_type": "markdown",
   "metadata": {},
   "source": [
    "# Volume of Fluid(VoF) method"
   ]
  },
  {
   "cell_type": "code",
   "execution_count": null,
   "metadata": {},
   "outputs": [],
   "source": []
  }
 ],
 "metadata": {
  "language_info": {
   "name": "python"
  }
 },
 "nbformat": 4,
 "nbformat_minor": 2
}
