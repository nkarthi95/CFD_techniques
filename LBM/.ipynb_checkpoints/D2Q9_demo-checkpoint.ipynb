{
 "cells": [
  {
   "cell_type": "markdown",
   "metadata": {},
   "source": [
    "# My D2Q9 implementation for a simple Poiselle Flow\n",
    "\n",
    "The objective of this exploration is to develop a single phase D2Q9 implementation of LB to replicate Poiselle flow. This will involve a pressure source on the left boundary of the system, no-slip boundaries on the top and b ottom and periodic boundaries on the right side of the system. The goals of this project will be to develop a module that can be uploaded to nanohub to allow others to learn about LBM. \n",
    "\n",
    "Objectives to be met are\n",
    "1. Develop a working LB implementation\n",
    "    1. First, flow through a channel without poiselle flow and periodic boundary conditions\n",
    "2. Implement boundary conditions\n",
    "    1. Implementation of (1) with the boundary conditions stated above\n",
    "3. Implement the arbitary boundaries that users can place\n",
    "\n",
    "\n",
    "## D2Q9 lattice\n",
    "\n",
    "Lattice Boltzmann is derived from a discretization of the Boltzmann equation to reduce the computational load that simulating every particle would take. To ensure appropriate momentum transfer, lattice directions are implemented to allow for exchange of mass, momentum and energy between particles in a different lattice. Many lattices exist such as teh D1Q3, D1Q5, D2Q7, D3Q15, D3Q19 and D3Q27. This exercise will focus on the D2Q9 lattice. (insert picture here)\n",
    "\n",
    "### Governing equation\n",
    "\n",
    "$$f_{i}(x + c_i \\Delta x, t + \\Delta t) = f_{i}(x, t) + \\Omega_{i}(x, t)$$\n",
    "\n",
    "Lattice Boltzmann operates in two stages. The first is the collision step, followed by the streaming step. The collision step represents the change in particle densities in each direction on each site while the streaming step moves particles between lattice directions. The equation above represents the generalized equation for lattice boltzmann's collision step. $f$ represents the densities of particles at lattice node $x$ in lattice direction $c_i$ a time $t$. $\\Omega$ represents the collision operator. There are many schemes to determine the collision operator but in this work, the Bhatnagar Gross and Krook collision operator will be used. This is defined as, \n",
    "\n",
    "$$\\Omega_{i} = \\frac{f_{i}^{eq} - f_{i}}{\\tau}$$\n",
    "\n",
    "Where $f_{eq}$ represents the equilibrium distribution of particles at $\\rho$, the density of particles, and $u$, the velocity of particles, of the lattice point.\n",
    "\n",
    "The macroscopic density is defined as, \n",
    "\n",
    "$$ \\rho = \\rho_{0} \\sum_{i} f_{i}$$\n",
    "\n",
    "The macroscopic velocity is defined as, \n",
    "\n",
    "$$ u = \\frac{\\sum_{i} f_{i} c_i}{\\rho}$$\n",
    "\n",
    "## Boundary Conditions\n",
    "\n",
    "Boundary conditions are essential in any transport problem as they control the flow of the property of interest. In Lattice Boltzmann, the boundary conditions available allow for the replication of Dirichlet, Neumann, Robin, Mixed, Cauchy and periodic boundary conditions. In this example, a simple Dirichlet boundary condition will be imposed on the top and bottom walls to simulate a no-slip boundary. A periodic boundary will be imposed on the right wall. A Cauchy boundary will be implemented on the left wall to simulate a pressure gradient. \n",
    "\n",
    "### Bounce Back BC\n",
    "\n",
    "There are two types of bounce back boundary conditions. One is the fullway bounceback boundary and the other is a half-way bounceback. The difference between both is when the inversion of particle velocities occur. The fullway bounceback boundary reflection occurs in the collision step of the next timestep while the halfway bounceback boundary reflection occurs during the streaming step of the same timestep. This boundary condition is mass conserving. "
   ]
  },
  {
   "cell_type": "markdown",
   "metadata": {},
   "source": [
    "## Reynolds number\n",
    "\n",
    "$$ Re = \\frac{\\rho v R_{h}}{\\eta} $$\n",
    "\n",
    "The above defines the reynolds number of the system where $\\rho$ is the total density of the system, $v$ is the velocity of the flow, $R_{h}$ is the hydraulic radius of the body defined as $R_{h} = \\frac{A}{L}$ and $\\eta$ is the dynamic viscosity. The above expression can be further simplified to be,\n",
    "\n",
    "$$ Re = \\frac{v R_{h}}{\\nu} $$\n",
    "\n",
    "where $\\nu$ is the kinematic viscosity of the system defined as $\\nu = \\frac{\\eta}{\\rho}$\n",
    "\n",
    "In Lattice Boltzmann, the kinematic viscosity is defined as, \n",
    "\n",
    "$$\\nu = c_{s}^{2}(\\tau - \\frac{1}{2})$$\n",
    "\n",
    "Where $\\tau$ is the relaxation time of the system usually set at 1. \n",
    "\n",
    "The hydraulic radius for our channel is defined as, the width of the channel and is obtained from the formula for the hydraulic radius shown above. \n",
    "\n",
    "Therefore, for this system, the Reynolds number can be re-written to find the velocity and is shown to be, \n",
    "\n",
    "$$Re = \\frac{R_{h} v }{c_{s}^{2}(\\tau - \\frac{1}{2})}$$\n",
    "\n",
    "For example, for $Re = 1$, $\\tau = 1$, $c_s = \\frac{1}{\\sqrt{3}}$ and $R_{h} = 100$, $v = 0.0017$"
   ]
  },
  {
   "cell_type": "code",
   "execution_count": 1,
   "metadata": {},
   "outputs": [
    {
     "ename": "ModuleNotFoundError",
     "evalue": "No module named 'boundaries'",
     "output_type": "error",
     "traceback": [
      "\u001b[0;31m---------------------------------------------------------------------------\u001b[0m",
      "\u001b[0;31mModuleNotFoundError\u001b[0m                       Traceback (most recent call last)",
      "Input \u001b[0;32mIn [1]\u001b[0m, in \u001b[0;36m<cell line: 10>\u001b[0;34m()\u001b[0m\n\u001b[1;32m      7\u001b[0m \u001b[38;5;28;01mimport\u001b[39;00m \u001b[38;5;21;01mpyevtk\u001b[39;00m\u001b[38;5;21;01m.\u001b[39;00m\u001b[38;5;21;01mhl\u001b[39;00m \n\u001b[1;32m      8\u001b[0m \u001b[38;5;28;01mimport\u001b[39;00m \u001b[38;5;21;01mos\u001b[39;00m\n\u001b[0;32m---> 10\u001b[0m \u001b[38;5;28;01mfrom\u001b[39;00m \u001b[38;5;21;01msrc\u001b[39;00m \u001b[38;5;28;01mimport\u001b[39;00m lb_helper, animations, boundaries, data_IO, objects\n",
      "File \u001b[0;32m~/Documents/CFD_techniques/LBM/src/lb_helper.py:1\u001b[0m, in \u001b[0;36m<module>\u001b[0;34m\u001b[0m\n\u001b[0;32m----> 1\u001b[0m \u001b[38;5;28;01mimport\u001b[39;00m \u001b[38;5;21;01mboundaries\u001b[39;00m\n\u001b[1;32m      2\u001b[0m \u001b[38;5;28;01mimport\u001b[39;00m \u001b[38;5;21;01mnumpy\u001b[39;00m \u001b[38;5;28;01mas\u001b[39;00m \u001b[38;5;21;01mnp\u001b[39;00m\n\u001b[1;32m      3\u001b[0m \u001b[38;5;66;03m# https://stackoverflow.com/questions/12638790/drawing-a-rectangle-inside-a-2d-numpy-array\u001b[39;00m\n\u001b[1;32m      4\u001b[0m \u001b[38;5;66;03m# https://medium.com/swlh/create-your-own-lattice-boltzmann-simulation-with-python-8759e8b53b1c\u001b[39;00m\n",
      "\u001b[0;31mModuleNotFoundError\u001b[0m: No module named 'boundaries'"
     ]
    }
   ],
   "source": [
    "import numpy as np \n",
    "import matplotlib.pyplot as plt\n",
    "from matplotlib import cm\n",
    "from matplotlib import animation\n",
    "from IPython.display import HTML\n",
    "from PIL import Image, ImageDraw\n",
    "import pyevtk.hl \n",
    "import os\n",
    "\n",
    "from src import lb_helper, animations, boundaries, data_IO, objects\n",
    "\n",
    "# %matplotlib notebook\n",
    "# %matplotlib inline"
   ]
  },
  {
   "cell_type": "code",
   "execution_count": null,
   "metadata": {},
   "outputs": [],
   "source": [
    "nx = 400   # resolution x-dir\n",
    "ny = 100   # resolution y-dir\n",
    "rho0 = 1   # density \n",
    "tau = 1.0    # collision timescale\n",
    "n_iteration = 5   # number of timesteps\n",
    "Re = 10\n",
    "\n",
    "bounce_back_walls = ['top', 'bottom']\n",
    "\n",
    "wall_placement = ['top']\n",
    "wall_v = {'top':0.0}\n",
    "\n",
    "halo_extent = 1\n",
    "\n",
    "pressure = False\n",
    "Pin = 1\n",
    "Pout = 0"
   ]
  },
  {
   "cell_type": "code",
   "execution_count": null,
   "metadata": {},
   "outputs": [],
   "source": [
    "Ny = ny + 2*halo_extent\n",
    "Nx = nx + 2*halo_extent\n",
    "cs = 1/np.sqrt(3)\n",
    "nu = (cs**2)*(tau - 0.5)\n",
    "v = (Re*nu)/(ny)\n",
    "\n",
    "rho_in = Pin/cs**2\n",
    "rho_out = Pout/cs**2\n",
    "\n",
    "idxs_grid = np.array([[8, 1, 2], [7, 0, 3], [6, 5, 4]])\n",
    "\n",
    "NL = 9\n",
    "idxs = np.arange(NL)\n",
    "vx_s = np.array([0, 0, 1, 1, 1, 0,-1,-1,-1])\n",
    "vy_s = np.array([0, 1, 1, 0,-1,-1,-1, 0, 1])\n",
    "weights = np.array([4/9,1/9,1/36,1/9,1/36,1/9,1/36,1/9,1/36]) # sums to 1\n",
    "X, Y = np.meshgrid(range(Nx), range(Ny))\n",
    "\n",
    "F = np.ones((Ny,Nx,NL)) #+ 0.01*np.random.randn(Ny,Nx,NL)\n",
    "F[:,:,3] += v #2 * (1+0.2*np.cos(2*np.pi*X/Nx*4))\n",
    "print(v)\n",
    "\n",
    "u_w = np.zeros((Ny, Nx, 2))\n",
    "# u_w = assign_wall_velocity(u_w, wall_v, wall_placement)\n",
    "\n",
    "grid = np.zeros((Ny, Nx))\n",
    "grid += 10\n",
    "i = 0\n",
    "grid, tri1 = objects.place_triangle(grid, Nx//2, Ny//2, 50, 50, fill = i, angle = 270)\n",
    "boundaries = np.array([tri1])\n",
    "plt.imshow(grid)\n",
    "\n",
    "if pressure == True:\n",
    "    F = lb_helper.pressure_gradient(F, rho_in, rho_out)\n",
    "\n",
    "rho, u , v = lb_helper.macroscopic(F)\n",
    "for i in idxs:\n",
    "    F[:,:,i] *= rho0 / rho\n",
    "\n",
    "t_s, rho_s, u_s, v_s = lb_helper.time_loop(F, n_iteration, boundaries, bounce_back_walls)\n",
    "\n",
    "bound = Re/2500"
   ]
  },
  {
   "cell_type": "code",
   "execution_count": null,
   "metadata": {},
   "outputs": [],
   "source": [
    "np.sum(rho_s[:, 1:-1, 1:-1], axis = (1, 2))"
   ]
  },
  {
   "cell_type": "code",
   "execution_count": null,
   "metadata": {},
   "outputs": [],
   "source": [
    "ani = cmap_ani(rho_s[:, 1:-1, 1:-1])\n",
    "HTML(ani.to_jshtml())\n",
    "# rho_s[:, 1:-1, 1:-1].shape"
   ]
  },
  {
   "cell_type": "code",
   "execution_count": null,
   "metadata": {},
   "outputs": [],
   "source": [
    "ani = cmap_ani(u_s[:, 1:-1, 1:-1])\n",
    "HTML(ani.to_jshtml())"
   ]
  },
  {
   "cell_type": "code",
   "execution_count": null,
   "metadata": {},
   "outputs": [],
   "source": [
    "ani = cmap_ani(v_s[:, 1:-1, 1:-1])\n",
    "HTML(ani.to_jshtml())"
   ]
  },
  {
   "cell_type": "code",
   "execution_count": null,
   "metadata": {},
   "outputs": [],
   "source": [
    "# #https://holypython.com/how-to-save-matplotlib-animations-the-ultimate-guide/\n",
    "\n",
    "# ani = plot_images_2D(rho_s)\n",
    "# f = r'/home/nkarthi/Reports/24_1_2022_presentation/D2Q9/ani_couette.gif'\n",
    "# writergif = animation.PillowWriter(fps=30) \n",
    "# ani.save(f, writer=writergif)\n",
    "# # HTML(ani)"
   ]
  },
  {
   "cell_type": "code",
   "execution_count": null,
   "metadata": {},
   "outputs": [],
   "source": [
    "# u_w = np.zeros((Ny, Nx, NL, 2))\n",
    "# np.unique(u_w).size"
   ]
  },
  {
   "cell_type": "code",
   "execution_count": null,
   "metadata": {},
   "outputs": [],
   "source": [
    "# from PIL import Image, ImageDraw, ImageFont\n",
    "\n",
    "# im = Image.new(\"RGB\", (512, 512), (128, 128, 128))\n",
    "# draw = ImageDraw.Draw(im)\n",
    "# # draw.line((0, im.height, im.width, 0), fill=(255, 0, 0), width=8)\n",
    "# draw.rectangle((100, 100, 200, 200), fill=(0, 255, 0))\n",
    "# draw.ellipse((250, 300, 450, 400), fill=(0, 0, 255))\n",
    "# # font = ImageFont.truetype('/Library/Fonts/Arial Bold.ttf', 48)\n",
    "# draw.multiline_text((0, 0), 'Pillow sample', fill=(0, 0, 0))\n",
    "# im"
   ]
  },
  {
   "cell_type": "code",
   "execution_count": null,
   "metadata": {},
   "outputs": [],
   "source": [
    "tst = np.array(im)\n",
    "tst.shape"
   ]
  },
  {
   "cell_type": "code",
   "execution_count": null,
   "metadata": {},
   "outputs": [],
   "source": [
    "rhos = np.array(rhos)\n",
    "ani = plot_images_2D(rhos)"
   ]
  },
  {
   "cell_type": "code",
   "execution_count": null,
   "metadata": {},
   "outputs": [],
   "source": [
    "import numpy as np\n",
    "import matplotlib.pyplot as plt\n",
    "\n",
    "# Python Imaging Library imports\n",
    "from PIL import Image, ImageDraw, ImageFont\n",
    "\n",
    "def place_rect(x, y, width, height, angle):\n",
    "    rect = np.array([(0, 0), (width, 0), (width, height), (0, height), (0, 0)])\n",
    "    theta = (np.pi / 180.0) * angle\n",
    "    R = np.array([[np.cos(theta), -np.sin(theta)],\n",
    "                  [np.sin(theta), np.cos(theta)]])\n",
    "    offset = np.array([x, y])\n",
    "    transformed_rect = np.dot(rect, R) + offset\n",
    "    return transformed_rect\n",
    "\n",
    "rect = get_rect(x=120, y=80, width=100, height=40, angle=30.0)\n",
    "rect\n",
    "\n",
    "grid = np.random.randint(low = 0, high = 256, size = (400, 400))\n",
    "\n",
    "img = Image.fromarray(grid.astype(np.uint8))\n",
    "draw = ImageDraw.Draw(img)\n",
    "draw.polygon([tuple(p) for p in rect], fill=0)\n",
    "new_data = np.asarray(img)\n",
    "plt.imshow(new_data, cmap=plt.cm.gray)\n",
    "plt.show()\n",
    "\n",
    "x, y = np.where(new_data == 0)\n",
    "\n",
    "print(np.unique(new_data[x, y]))"
   ]
  },
  {
   "cell_type": "code",
   "execution_count": null,
   "metadata": {},
   "outputs": [],
   "source": [
    "import numpy as np\n",
    "import matplotlib.pyplot as plt\n",
    "\n",
    "# Python Imaging Library imports\n",
    "from PIL import Image, ImageDraw, ImageFont\n",
    "\n",
    "def rotate(vertices, theta):\n",
    "    theta = (theta/180)*np.pi\n",
    "    R = np.array([[np.cos(theta), -np.sin(theta)], [np.sin(theta), np.cos(theta)]])\n",
    "    return np.dot(vertices, R)\n",
    "  \n",
    "def place_object(grid, obj, f):\n",
    "    img = Image.fromarray(grid.astype(np.uint8))\n",
    "    draw = ImageDraw.Draw(img)\n",
    "    draw.polygon([tuple(p) for p in obj], fill=f)\n",
    "    new_data = np.asarray(img)\n",
    "    return new_data, np.where(new_data == f, True, False)        \n",
    "\n",
    "def place_rect(rho, x, y, width, height, fill = 0, angle = 0):\n",
    "    rect = np.array([(-width/2, -height/2), (width/2, -height/2), (width/2, height/2), (-width/2, height/2)])\n",
    "    offset = np.array([x, y])\n",
    "    transformed_rect = rotate(rect, angle) + offset\n",
    "    rho, obj = place_object(rho, transformed_rect, fill)\n",
    "    return rho, obj\n",
    "\n",
    "def place_triangle(rho, x, y, width, height, fill = 0, angle = 0):\n",
    "    triangle = np.array([(width/2, -height/2), (-width/2, -height/2), (0, height/2)])\n",
    "    offset = np.array([x, y])\n",
    "    transformed_triangle = rotate(triangle, angle) + offset\n",
    "    rho, obj = place_object(rho, transformed_triangle, fill)\n",
    "    return rho, obj\n",
    "\n",
    "def place_ellipse(rho, x, y, r1, r2, fill = 0):\n",
    "    ell = [(x - r1, y - r2), (x + r1, y + r2)]\n",
    "    img = Image.fromarray(rho.astype(np.uint8))\n",
    "    draw = ImageDraw.Draw(img)\n",
    "    draw.ellipse(ell, fill = fill)\n",
    "    new_data = np.asarray(img)\n",
    "    return new_data, np.where(new_data == fill, True, False)\n",
    "\n",
    "grid = np.random.randint(low = 2, high = 256, size = (300, 300))\n",
    "\n",
    "# grid, rect1 = place_rect(grid, 50, 50, 50, 75, 10)\n",
    "# grid, rect2 = place_rect(grid, 150, 150, 50, 75, 145)\n",
    "grid, tri1 = place_triangle(grid, 50, 50, 30, 50, fill = 0)\n",
    "grid, ell1 = place_ellipse(grid, 150, 150, 30, 50, fill = 1)\n",
    "\n",
    "print(np.unique(ell1))\n",
    "\n",
    "plt.imshow(grid)\n",
    "plt.show()"
   ]
  },
  {
   "cell_type": "code",
   "execution_count": null,
   "metadata": {},
   "outputs": [],
   "source": [
    "X, Y = np.meshgrid(range(Ny), range(Nx))\n",
    "F = np.ones((Ny,Nx,NL)) + 0.01*np.random.randn(Ny,Nx,NL)\n",
    "# F[:,:,3] += 2 * (1+0.2*np.cos(2*np.pi*X/Nx*4))\n",
    "print(F.shape)\n",
    "\n",
    "grid = np.ones((Ny, Nx))\n",
    "grid += 3\n",
    "print(grid.shape)\n",
    "grid, rec = place_rect(grid, 200, 50, 25, 25, fill = 0)\n",
    "print(grid.shape, rec.shape)\n",
    "grid, tri = place_triangle(grid, 50, 50, 25, 70, fill = 1, angle = 270)\n",
    "print(grid.shape, tri.shape)\n",
    "plt.imshow(grid)\n",
    "print(F[tri, :].shape)"
   ]
  },
  {
   "cell_type": "code",
   "execution_count": null,
   "metadata": {},
   "outputs": [],
   "source": [
    "# https://github.com/python-pillow/Pillow/issues/2204"
   ]
  },
  {
   "cell_type": "code",
   "execution_count": null,
   "metadata": {},
   "outputs": [],
   "source": []
  }
 ],
 "metadata": {
  "kernelspec": {
   "display_name": "Python 3 (ipykernel)",
   "language": "python",
   "name": "python3"
  },
  "language_info": {
   "codemirror_mode": {
    "name": "ipython",
    "version": 3
   },
   "file_extension": ".py",
   "mimetype": "text/x-python",
   "name": "python",
   "nbconvert_exporter": "python",
   "pygments_lexer": "ipython3",
   "version": "3.8.10"
  }
 },
 "nbformat": 4,
 "nbformat_minor": 4
}
