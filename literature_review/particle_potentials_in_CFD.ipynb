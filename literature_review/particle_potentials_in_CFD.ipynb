{
 "cells": [
  {
   "cell_type": "markdown",
   "metadata": {},
   "source": [
    "# Particle potentials in CFD simulations"
   ]
  },
  {
   "cell_type": "markdown",
   "metadata": {},
   "source": [
    "First, I will go through the literature for the potentials implemented in LB3D as those are the most relevant to what I need at the moment. After this, I will look at other potentials such as the JKR(Johnson-Kendal-Roberts) potential used to model adhesive particles\n",
    "\n",
    "Some important dimensionless numbers:\n",
    "1. Reynolds number $Re = \\frac{\\rho u l}{\\eta}$. Represents the ratio between inertial and viscous forces\n",
    "2. Peclec number $Pe = \\frac{u l}{D} = Re\\cdot Sc$ Reresents the ratio of timescales between advection and diffusion. \n",
    "3. Capillary number $Ca = \\frac{\\eta u}{\\sigma}$. Represents the ratio of viscous and interfacial forces"
   ]
  },
  {
   "cell_type": "markdown",
   "metadata": {},
   "source": [
    "# Hertzian hard sphere forces"
   ]
  },
  {
   "cell_type": "markdown",
   "metadata": {},
   "source": [
    "\n",
    "\n",
    "Assumptions made during the development of the Hertzian contact force are that the strains are small and within the elastic limit of the materials in contact, the surface area in contact is much smaller than the size of the contacting bodies, the surfaces are perfectly smooth and therefore frictionless and the applied forces are all orthogonal to any surface. With these assumptions, the core equation of the Hertzian contact force revolves around solving the elastic deflection $u_z \\equiv [m]$ of a surface as another surface(denoted with ' in this notation) is contacting it under an applied pressure $p(x', y')$. The elastic deformation is expressed as a ratio of the reduced elastic modulus $\\bar{E} \\equiv [Pa]$ to the surface energy, expressed as an integral of the applied pressure over the area of application in the equation below.\n",
    "\n",
    "\\begin{equation}\n",
    "u_z(x, y) = \\frac{2\\pi}{\\bar{E}} \\int \\int \\frac{p(x', y')}{\\sqrt{(x - x')^2(y - y')^2}} dx'dy'\n",
    "\\label{eq:hertz_elastic_deformation}\n",
    "\\end{equation}\n",
    "\n",
    "The term in the integral in \\ref{eq:hertz_elastic_deformation} is the surface energy, calculated as the area integral of the energy density. The denominator in the integral represents the euclidean distance between the two contacting surfaces. \n",
    "\n",
    "\\begin{equation}\n",
    "\\frac{1}{\\bar{E}} = \\frac{1 - \\nu^{2}}{E} \\frac{1 - \\nu'^{2}}{E'} \n",
    "\\label{eq:hertz_elastic_modulus}\n",
    "\\end{equation}\n",
    "\n",
    "$E'$ is calculated from the Poisson's ratios and Young's moduli of the surfaces. $\\nu, \\nu'$ represent the Poisson's ratios of the two materials, while $E, E'$ represent the Youngs moduli of each respective material. The pressure $p(x,y)$ is calculated from a quadratic approximation of the pressure distribution and is suitable for spherical, elliptical or cylindrical bodies in contact.\n",
    "\n",
    "\\begin{equation}\n",
    "p(x, y) = p_0\\sqrt{1 - \\frac{r^2}{a^2}}\n",
    "\\label{eq:hertz_pressure_distribution}\n",
    "\\end{equation}\n",
    "\n",
    "In equation \\ref{eq:hertz_pressure_distribution} $r$ defines the euclidean distance between the surfaces, while $a$ defines the cutoff point when the Hertzian contact force begins to apply. $p_0$ is the maximum Hertz pressure which can be calculculated after substituting the expression for $p(x, y)$ into the integral. For brevity, $p_0 = \\frac{2\\bar{E}}{\\pi}\\frac{\\delta}{\\sqrt{R}}, \\delta = \\frac{\\pi a p_0}{2\\bar{E}}$\n",
    "\n",
    "If the materials properties are identical and the two surfaces in contact are spheres, \\ref{eq:hertz_pressure_distribution} can be simplified to $p(x,y) = K(2R - r)^{5/2}$. This force is what is used to calculate interparticle forces in colloidal simulations. Due to the assumptions made, p_0 can be simplified to the elastic modulus of the material making up the sphere, defined as $K$. If the material is not known or is arbitrarily specifies as is usually the case in LB simulations, the strength of this potential, modulated with $K$ must be chosen carefully. Too high and numerical instability will occue due to large changes in pressure upon contact. Too low and the particles will overlap by more than 10% of their total volume.\n",
    "\n",
    "sources\n",
    "1. https://www.tribonet.org/wiki/hertz-contact-theory/\n",
    "2. https://journals.aps.org/pre/pdf/10.1103/PhysRevE.72.011408\n"
   ]
  },
  {
   "cell_type": "markdown",
   "metadata": {},
   "source": [
    "# Lubrication forces"
   ]
  },
  {
   "cell_type": "markdown",
   "metadata": {},
   "source": [
    "Lubrication forces arise when an incompressible fluid is squeezed between two incompressible solids, resulting in a strongly repulsive force created as the fluid is squeezed out of the gap. Characterizing this force is known as lubrication theory. Durlosky, Brady and Bossis developed a theory which explicitly calculated the forces created from this near contact, where previously meshes of the particle were required to construct an accurate model of the interparticle lubrication forces.\n",
    "\n",
    "The first type of lubrication force calculation is applicable to situations where forces and torques are prescribed with no shear flow imposed. The second version does not make any assumptions, and can be used under shear flow. However it requires more computation time. The basic assumption for lubrication theory involve rigid particles that have particle reynolds number, $Re_p << 1$. \n",
    "\n",
    "\\begin{equation}\n",
    "\\bold{F_{ij}^{lub}} = -\\frac{6 \\pi \\eta (a a')^2}{(a + a')^2} \\hat{R_{ij}}\\hat{R_{ij}}\\cdot(u_i - u_j)[\\frac{1}{R_{ij} - a - a'} - \\frac{1}{\\Delta_c}]\n",
    "\\end{equation}\n",
    "\n",
    "In the equation above $a, a'$ are the radii of the two spheres, $\\Delta_c$ is the cutoff distance when lubrication forces begin to act, $\\bold{R_{ij}}$ represent the vector of distances between particle centers, $u_i, u_j$ represent the velocity of particle $i$ and $j$ and $\\eta$ is the viscosity of the fluid. \n",
    "\n",
    "Sources\n",
    "1. Ladd, A.J.C., Verberg, R. Lattice-Boltzmann Simulations of Particle-Fluid Suspensions. Journal of Statistical Physics 104, 1191–1251 (2001). https://doi.org/10.1023/A:1010414013942\n",
    "2. Durlofsky L, Brady JF, Bossis G. Dynamic simulation of hydrodynamically interacting particles. Journal of Fluid Mechanics. 1987;180:21-49. doi:10.1017/S002211208700171X\n",
    "3. Anthony J. C. Ladd; Sedimentation of homogeneous suspensions of non-Brownian spheres. Physics of Fluids 1 March 1997; 9 (3): 491–499. https://doi.org/10.1063/1.869212"
   ]
  },
  {
   "cell_type": "markdown",
   "metadata": {},
   "source": [
    "# Repulsive Hookean (Berne Pechukas)"
   ]
  },
  {
   "cell_type": "markdown",
   "metadata": {},
   "source": []
  },
  {
   "cell_type": "markdown",
   "metadata": {},
   "source": [
    "## Repulsive Hookean with attractive Gaussian"
   ]
  },
  {
   "cell_type": "markdown",
   "metadata": {},
   "source": []
  },
  {
   "cell_type": "markdown",
   "metadata": {},
   "source": [
    "# Lennard Jones"
   ]
  },
  {
   "cell_type": "code",
   "execution_count": null,
   "metadata": {},
   "outputs": [],
   "source": []
  },
  {
   "cell_type": "markdown",
   "metadata": {},
   "source": [
    "# Johnson Kendall Roberts (JKR)"
   ]
  },
  {
   "cell_type": "code",
   "execution_count": null,
   "metadata": {},
   "outputs": [],
   "source": []
  },
  {
   "cell_type": "markdown",
   "metadata": {},
   "source": [
    "# Derjaguin, Muller, Toporov(DMT)"
   ]
  },
  {
   "cell_type": "code",
   "execution_count": null,
   "metadata": {},
   "outputs": [],
   "source": []
  },
  {
   "cell_type": "markdown",
   "metadata": {},
   "source": [
    "# Tabor and Maugis"
   ]
  },
  {
   "cell_type": "code",
   "execution_count": null,
   "metadata": {},
   "outputs": [],
   "source": []
  },
  {
   "cell_type": "markdown",
   "metadata": {},
   "source": [
    "# Two Yukawa model"
   ]
  },
  {
   "cell_type": "markdown",
   "metadata": {},
   "source": []
  },
  {
   "cell_type": "markdown",
   "metadata": {},
   "source": [
    "# Derjaugin Landau Verwey Overbeek(DLVO)"
   ]
  },
  {
   "cell_type": "markdown",
   "metadata": {},
   "source": [
    "\n",
    "Sources\n",
    "1. Simulation of claylike colloids Martin Hecht, Jens Harting, Thomas Ihle, and Hans J. Herrmann\n",
    "Phys. Rev. E 72, 011408 – Published 26 July 2005, https://www.doi.org/10.1103/PhysRevE.72.011408"
   ]
  },
  {
   "cell_type": "markdown",
   "metadata": {},
   "source": []
  }
 ],
 "metadata": {
  "language_info": {
   "name": "python"
  }
 },
 "nbformat": 4,
 "nbformat_minor": 2
}
