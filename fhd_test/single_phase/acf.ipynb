{
 "cells": [
  {
   "cell_type": "code",
   "execution_count": 1,
   "metadata": {},
   "outputs": [],
   "source": [
    "import os, sys, time\n",
    "import espressomd, espressomd.lb\n",
    "import numpy as np\n",
    "#from numpy.fft import fftn,fftfreq\n",
    "import matplotlib.pyplot as plt\n",
    "import itertools as it\n",
    "import scipy.signal\n",
    "import statsmodels.tsa.stattools as stattools"
   ]
  },
  {
   "cell_type": "code",
   "execution_count": 2,
   "metadata": {},
   "outputs": [
    {
     "name": "stdout",
     "output_type": "stream",
     "text": [
      "{'agrid': 1.0, 'dens': 1.0, 'ext_force_density': array([0., 0., 0.]), 'visc': 0.08333333333333333, 'bulk_visc': -1.0, 'tau': 1.0, 'seed': 134, 'kT': 1.1111111111111111e-07}\n"
     ]
    }
   ],
   "source": [
    "### Parameters ###\n",
    "dim = 3\n",
    "dx = 1 # agrid\n",
    "dt = 1 # timestep\n",
    "rho = 1 # density\n",
    "tau = 0.75\n",
    "nu = 1/3*(tau-0.5) # viscosity\n",
    "L = 64 # side length\n",
    "kT = 1e-6/9 #test['T'] #2.464*10**(-7)\n",
    "################\n",
    "\n",
    "### Setup ###\n",
    "system = espressomd.System(box_l=[L]*3)\n",
    "system.time_step = 1\n",
    "system.cell_system.skin = 0.0\n",
    "\n",
    "lbfluid = espressomd.lb.LBFluid(agrid = dx, tau = dt, dens = rho, visc = nu, kT = kT, seed=134)\n",
    "system.actors.add(lbfluid)\n",
    "print(lbfluid.get_params())\n",
    "uid = np.random.randint(0, 1001)\n",
    "###############"
   ]
  },
  {
   "cell_type": "code",
   "execution_count": 3,
   "metadata": {},
   "outputs": [],
   "source": [
    "# rolling autocorrelation as implemented in LBMeX (adopted from DSMCgran)\n",
    "def update_autocorrelation(acf, data, x):\n",
    "    data = np.roll(data,1,axis=0)\n",
    "    data[0] = x\n",
    "    acf += x*data\n",
    "    return acf, data"
   ]
  },
  {
   "cell_type": "code",
   "execution_count": 4,
   "metadata": {},
   "outputs": [
    {
     "name": "stdout",
     "output_type": "stream",
     "text": [
      "12:35:33 : Timestep  15\n",
      "15 Timesteps run in 69.343s, average of 4.623 s/timesteps\n"
     ]
    }
   ],
   "source": [
    "nsteps = 15\n",
    "ncorr = 5\n",
    "\n",
    "Pdata = np.zeros((ncorr,L,L,L,3,3))\n",
    "Pacf = np.zeros((ncorr,L,L,L,3,3))\n",
    "allPeq = []\n",
    "allPneq = []\n",
    "\n",
    "### Time Loop ###\n",
    "start = time.time()\n",
    "for i in range(nsteps):\n",
    "    system.integrator.run(steps = 1)\n",
    "\n",
    "    lbf = lbfluid[:, :, :]\n",
    "    Peq = lbf.pressure_tensor\n",
    "    Pneq = lbf.pressure_tensor_neq\n",
    "    allPeq.append(Peq)\n",
    "    allPneq.append(Pneq)\n",
    "    \n",
    "    P = Peq + Pneq\n",
    "    Pacf, Pdata = update_autocorrelation(Pacf, Pdata, P)\n",
    "    \n",
    "    current_time = time.strftime(\"%H:%M:%S\", time.localtime())\n",
    "    print(current_time, ': Timestep ', i+1, end='\\r')\n",
    "print()\n",
    "end = time.time()\n",
    "print('{0} Timesteps run in {1:.3f}s, average of {2:.3f} s/timesteps'.format(nsteps, end - start, (end - start)/nsteps))\n",
    "#################"
   ]
  },
  {
   "cell_type": "code",
   "execution_count": 5,
   "metadata": {},
   "outputs": [
    {
     "data": {
      "image/png": "[encoded data removed]",
      "text/plain": [
       "<Figure size 432x288 with 1 Axes>"
      ]
     },
     "metadata": {
      "needs_background": "light"
     },
     "output_type": "display_data"
    }
   ],
   "source": [
    "for i in range(3):\n",
    "    pacf = Pacf.mean(axis=(1,2,3)).T[i,(i+1)%3]\n",
    "    plt.plot(pacf,'.-',label=r'$\\langle P_{%c%c}(t) P_{%c%c}(0) \\rangle$'%tuple([120+i,120+(i+1)%3]*2))\n",
    "plt.legend()\n",
    "plt.title('Pressure autocorrelation function')\n",
    "plt.xlabel('$t$')\n",
    "plt.ylabel(r'$\\langle P_{\\alpha\\beta}(t) P_{\\alpha\\beta}(0) \\rangle$')\n",
    "plt.show()"
   ]
  },
  {
   "cell_type": "code",
   "execution_count": 6,
   "metadata": {},
   "outputs": [
    {
     "name": "stdout",
     "output_type": "stream",
     "text": [
      "Viscosity at tau = 0.75 \b: nu = 2.3328919345191483\n"
     ]
    }
   ],
   "source": [
    "nu = np.mean([Pacf.mean(axis=(1,2,3)).T[i,(i+1)%3].sum() for i in range(3) ])\n",
    "nu /= kT\n",
    "print(\"Viscosity at tau =\",tau,\"\\b: nu =\",nu)"
   ]
  },
  {
   "cell_type": "markdown",
   "metadata": {},
   "source": [
    "Pressure autocorrelation:\n",
    "\\begin{equation}\n",
    "ACF(t') = \\left\\langle P(t')P(0) \\right\\rangle = \\frac{1}{N_t-t'}\\sum_{t=0}^{N_t} P(t+t')P(t)\n",
    "\\end{equation}\n",
    "(note the denominator $N_t-t'$ for unbiased autocovariance)"
   ]
  },
  {
   "cell_type": "markdown",
   "metadata": {},
   "source": [
    "Running calculation as implemented in LBMeX (adopted from DSMCGran):\n",
    "$$ACF(t') = \\sum_{t=0}^{N_t} P(t)P(t-t')$$\n",
    "(note normalization is dropped for now)"
   ]
  },
  {
   "cell_type": "markdown",
   "metadata": {},
   "source": [
    "`scipy.signal.correlate` computes:\n",
    "\\begin{equation}\n",
    "z(k) = (x*y)(k-N+1) = \\sum_{l=0}^{n_x-1}x_ly^*_{l-k+N-1} \\qquad N=\\max(n_x,n_y) \\quad k=0,1,\\dots,n_x+n_y-2\n",
    "\\end{equation}\n",
    "(note the shifted lag)"
   ]
  },
  {
   "cell_type": "code",
   "execution_count": 7,
   "metadata": {},
   "outputs": [],
   "source": [
    "ncorr = 5\n",
    "P = np.array(allPeq) + np.array(allPneq)\n",
    "P -= np.mean(P,axis=0) # center data for comparison with statsmodels acf\n",
    "p = P[:,0,0,0,1,2]"
   ]
  },
  {
   "cell_type": "code",
   "execution_count": 8,
   "metadata": {},
   "outputs": [
    {
     "name": "stdout",
     "output_type": "stream",
     "text": [
      "CPU times: user 2.07 ms, sys: 12 µs, total: 2.08 ms\n",
      "Wall time: 2.42 ms\n"
     ]
    }
   ],
   "source": [
    "%%time\n",
    "x = p\n",
    "data = np.zeros((ncorr,*x.shape[1:]))\n",
    "acf = np.zeros((ncorr,*x.shape[1:]))\n",
    "for t in range(nsteps):\n",
    "    acf, data = update_autocorrelation(acf, data, x[t])\n",
    "ps = acf"
   ]
  },
  {
   "cell_type": "code",
   "execution_count": 9,
   "metadata": {},
   "outputs": [
    {
     "name": "stdout",
     "output_type": "stream",
     "text": [
      "CPU times: user 217 µs, sys: 5 µs, total: 222 µs\n",
      "Wall time: 190 µs\n"
     ]
    }
   ],
   "source": [
    "%%time\n",
    "ac_numpy = np.correlate(p,p,mode='fft')[len(p)-1:][:ncorr]"
   ]
  },
  {
   "cell_type": "code",
   "execution_count": 10,
   "metadata": {},
   "outputs": [
    {
     "name": "stdout",
     "output_type": "stream",
     "text": [
      "CPU times: user 177 µs, sys: 4 µs, total: 181 µs\n",
      "Wall time: 172 µs\n"
     ]
    }
   ],
   "source": [
    "%%time\n",
    "ac_scipy = scipy.signal.correlate(p,np.concatenate([[0]*(len(p)-1),p]),mode='valid')[:ncorr]"
   ]
  },
  {
   "cell_type": "code",
   "execution_count": 11,
   "metadata": {},
   "outputs": [
    {
     "name": "stdout",
     "output_type": "stream",
     "text": [
      "CPU times: user 890 µs, sys: 0 ns, total: 890 µs\n",
      "Wall time: 923 µs\n"
     ]
    }
   ],
   "source": [
    "%%time\n",
    "ac_sm = stattools.acf(p)[:ncorr]"
   ]
  },
  {
   "cell_type": "code",
   "execution_count": 12,
   "metadata": {},
   "outputs": [
    {
     "name": "stdout",
     "output_type": "stream",
     "text": [
      "CPU times: user 1.89 ms, sys: 0 ns, total: 1.89 ms\n",
      "Wall time: 2.17 ms\n"
     ]
    }
   ],
   "source": [
    "%%time\n",
    "# rolling acf (note that the average acf of the windows is _not_ equal to the acf of the full series)\n",
    "v = p\n",
    "data = np.zeros((ncorr, *v.shape[1:]))\n",
    "acf = np.zeros((ncorr, *v.shape[1:]))\n",
    "for t in range(nsteps+ncorr):\n",
    "    data = np.roll(data,-1,axis=0)\n",
    "    data[-1] = v[t] if t<nsteps else 0\n",
    "    for idx in it.product(*map(range,v.shape[1:])):\n",
    "        s = data if idx==() else data[:,idx]\n",
    "        acf += scipy.signal.correlate(s,s)[len(s)-1:]\n",
    "ac = acf/np.arange(ncorr,0,-1)"
   ]
  },
  {
   "cell_type": "code",
   "execution_count": 13,
   "metadata": {},
   "outputs": [],
   "source": [
    "assert(np.allclose(ps,ac))\n",
    "assert(np.allclose(ps,ac_numpy))\n",
    "assert(np.allclose(ps,ac_scipy))\n",
    "assert(np.allclose(ps/ps[0],ac_sm)) # normalize zero lag correlation for comparison with statsmodels acf"
   ]
  },
  {
   "cell_type": "code",
   "execution_count": 14,
   "metadata": {
    "scrolled": true
   },
   "outputs": [
    {
     "data": {
      "image/png": "[encoded data removed]",
      "text/plain": [
       "<Figure size 432x288 with 1 Axes>"
      ]
     },
     "metadata": {
      "needs_background": "light"
     },
     "output_type": "display_data"
    }
   ],
   "source": [
    "plt.plot(ps/ps[0],'.-',label='running direct (AMReX)')\n",
    "plt.plot(ac/ac[0],'.-',label='running correlate')\n",
    "plt.plot(ac_scipy/ac_scipy[0],'.-.',label='Scipy')\n",
    "plt.plot(ac_numpy/ac_numpy[0],'.--',label='Numpy')\n",
    "plt.plot(ac_sm,'.--',label='statsmodels.acf')\n",
    "plt.legend()\n",
    "plt.show()"
   ]
  }
 ],
 "metadata": {
  "kernelspec": {
   "display_name": "ESPResSo",
   "language": "python",
   "name": "pypresso"
  },
  "language_info": {
   "codemirror_mode": {
    "name": "ipython",
    "version": 3
   },
   "file_extension": ".py",
   "mimetype": "text/x-python",
   "name": "python",
   "nbconvert_exporter": "python",
   "pygments_lexer": "ipython3",
   "version": "3.10.5"
  }
 },
 "nbformat": 4,
 "nbformat_minor": 4
}
